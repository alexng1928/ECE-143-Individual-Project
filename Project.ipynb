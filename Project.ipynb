{
 "cells": [
  {
   "cell_type": "markdown",
   "metadata": {},
   "source": [
    "# ECE 143 Individual Project: Ad-Hoc Communications Network\n",
    "This is my solution to problem of the Ad-Hoc Communications Network. "
   ]
  },
  {
   "cell_type": "markdown",
   "metadata": {},
   "source": [
    "## Imports"
   ]
  },
  {
   "cell_type": "code",
   "execution_count": 1,
   "metadata": {},
   "outputs": [],
   "source": [
    "import matplotlib.patches as patches\n",
    "import matplotlib.pyplot as plt\n",
    "import time\n",
    "from NB_Modules import *\n",
    "from Modules import create_rand_tower, create_max\n",
    "from TowerClass import Tower\n",
    "\n",
    "# This is required to display the dynamic graphs\n",
    "%matplotlib notebook"
   ]
  },
  {
   "cell_type": "markdown",
   "metadata": {},
   "source": [
    "## Variables\n",
    "Please enter the width and height (as integers) of the desired coverage footprint below:"
   ]
  },
  {
   "cell_type": "code",
   "execution_count": 2,
   "metadata": {},
   "outputs": [],
   "source": [
    "desired_width = 10\n",
    "desired_height = 10"
   ]
  },
  {
   "cell_type": "markdown",
   "metadata": {},
   "source": [
    "## Design of Communication Towers\n",
    "The problem required that each communication tower have a height, width, and position sampled from a uniform distribution.\n",
    "<br>\n",
    "<br>\n",
    "My tower objects each have a coordinate, height, and width variable. The coordinate is the position of the bottom left-hand corner, so that the width and height extend towards the positive x-y direction on the 2D Cartesian coordinate system.\n",
    "<br>\n",
    "<br>\n",
    "Since each tower's coverage must stay within the region of interest (ROI), the tower's coverage and the tower's position can not be randomly chosen at the same time, because the coverage area limits where a tower can be placed and the tower's starting position limits the total possible coverage area. One must be determined before the other, so I decided to first uniformly sample the height and width. On average, this should allow for towers with larger areas because the only constraint is the ROI, rather than both the starting coordinate and the ROI.\n",
    "<br>\n",
    "<br>\n",
    "Running the code below will produce a random tower within the desired coverage footprint and a visualization of the tower.\n",
    "<br>\n",
    "If you want to create a non-random tower, uncomment the fourth line. The tower is initialized as Tower((x,y),width,height). (x,y) is a tuple and height and width are both integers. (Warning! Towers outside of the ROI can be created without error, only create_rand_tower can ensure towers are within the footprint)"
   ]
  },
  {
   "cell_type": "code",
   "execution_count": 3,
   "metadata": {},
   "outputs": [
    {
     "name": "stdout",
     "output_type": "stream",
     "text": [
      "Starting Coord:(0, 6), Width :10, Height:4\n"
     ]
    },
    {
     "data": {
      "image/png": "[encoded data removed]",
      "text/plain": [
       "<matplotlib.figure.Figure at 0x89322e8>"
      ]
     },
     "metadata": {},
     "output_type": "display_data"
    }
   ],
   "source": [
    "fig,ax = plt.subplots(1)\n",
    "plt.axis([0,desired_width,0,desired_height])\n",
    "tow = create_rand_tower(desired_width, desired_height)\n",
    "# tow = Tower((0,0),5,5)\n",
    "rect = get_rects([tow])\n",
    "ax.add_patch(rect[0])\n",
    "fig.canvas.draw()\n",
    "print tow"
   ]
  },
  {
   "cell_type": "code",
   "execution_count": null,
   "metadata": {},
   "outputs": [],
   "source": []
  }
 ],
 "metadata": {
  "kernelspec": {
   "display_name": "Python 2",
   "language": "python",
   "name": "python2"
  },
  "language_info": {
   "codemirror_mode": {
    "name": "ipython",
    "version": 2
   },
   "file_extension": ".py",
   "mimetype": "text/x-python",
   "name": "python",
   "nbconvert_exporter": "python",
   "pygments_lexer": "ipython2",
   "version": "2.7.14"
  }
 },
 "nbformat": 4,
 "nbformat_minor": 2
}
