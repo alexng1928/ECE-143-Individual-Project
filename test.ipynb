{
 "cells": [
  {
   "cell_type": "code",
   "execution_count": 6,
   "metadata": {},
   "outputs": [
    {
     "name": "stdout",
     "output_type": "stream",
     "text": [
      "Starting Coord:(0, 0), Height :4, Width:4\n",
      "Starting Coord:(1, 1), Height :4, Width:4\n",
      "Starting Coord:(4, 1), Height :2, Width:1\n"
     ]
    }
   ],
   "source": [
    "from TowerClass import Tower\n",
    "from Modules import create_rand_tower, create_max, trim\n",
    "\n",
    "a = Tower((0,0),4,4)\n",
    "b = Tower((1,1),4,4)\n",
    "c = Tower((4,1),2,1)\n",
    "d = Tower((1,4),1,2)\n",
    "print a\n",
    "print b\n",
    "print c"
   ]
  },
  {
   "cell_type": "code",
   "execution_count": 7,
   "metadata": {},
   "outputs": [
    {
     "name": "stdout",
     "output_type": "stream",
     "text": [
      "[Starting Coord:(4, 1), Height :4, Width:1, Starting Coord:(1, 4), Height :1, Width:4]\n",
      "____________________________________________\n",
      "[Starting Coord:(4, 3), Height :2, Width:1]\n",
      "[Starting Coord:(4, 3), Height :2, Width:1, Starting Coord:(1, 4), Height :1, Width:4]\n",
      "____________________________________________\n",
      "[Starting Coord:(4, 3), Height :2, Width:1]\n",
      "[Starting Coord:(4, 3), Height :2, Width:1, Starting Coord:(3, 4), Height :1, Width:2]\n",
      "____________________________________________\n",
      "Starting Coord:(4, 3), Height :2, Width:1\n"
     ]
    }
   ],
   "source": [
    "temp = create_max(b,[a,c,d])\n",
    "print temp"
   ]
  },
  {
   "cell_type": "code",
   "execution_count": 9,
   "metadata": {},
   "outputs": [
    {
     "name": "stdout",
     "output_type": "stream",
     "text": [
      "[Starting Coord:(4, 3), Height :2, Width:1]\n"
     ]
    }
   ],
   "source": [
    "x = trim(temp,c)\n",
    "print x"
   ]
  },
  {
   "cell_type": "code",
   "execution_count": null,
   "metadata": {},
   "outputs": [],
   "source": []
  },
  {
   "cell_type": "code",
   "execution_count": null,
   "metadata": {},
   "outputs": [],
   "source": []
  }
 ],
 "metadata": {
  "kernelspec": {
   "display_name": "Python 2",
   "language": "python",
   "name": "python2"
  },
  "language_info": {
   "codemirror_mode": {
    "name": "ipython",
    "version": 2
   },
   "file_extension": ".py",
   "mimetype": "text/x-python",
   "name": "python",
   "nbconvert_exporter": "python",
   "pygments_lexer": "ipython2",
   "version": "2.7.14"
  }
 },
 "nbformat": 4,
 "nbformat_minor": 2
}
